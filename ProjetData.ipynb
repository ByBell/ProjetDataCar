{
 "cells": [
  {
   "cell_type": "markdown",
   "metadata": {},
   "source": [
    "# Estimation prix occasion véhicule\n",
    "\n",
    "Dans le rapport, expliciter la partie métier du use case : qu'est-ce qui a de l'importance ? Problèmes rencontrés ? Choix métiers ? Pourquoi ces choix techniques ? Pourquoi ces algos ? les essais réalisés ?\n",
    "\n",
    "Prix véhicule neuf (amener nouvelles données, autoplus.fr), options, chevaux vapeur, finition, etc)"
   ]
  },
  {
   "cell_type": "markdown",
   "metadata": {},
   "source": [
    "## Import"
   ]
  },
  {
   "cell_type": "code",
   "execution_count": 1,
   "metadata": {},
   "outputs": [],
   "source": [
    "import pandas as pd\n",
    "import numpy as np\n",
    "import matplotlib.pyplot as plt\n",
    "import seaborn as sns\n",
    "from nltk import word_tokenize\n",
    "from nltk.corpus import stopwords\n",
    "import matplotlib.pyplot as plt\n",
    "from matplotlib.ticker import AutoMinorLocator\n",
    "\n",
    "from sklearn.model_selection import train_test_split\n",
    "from sklearn.ensemble import RandomForestRegressor\n",
    "\n",
    "import re\n",
    "\n",
    "pd.set_option('display.max_colwidth', 200)\n",
    "TRIGGER_VISUALIZATION = False"
   ]
  },
  {
   "cell_type": "markdown",
   "metadata": {},
   "source": [
    "## Dataset(s)"
   ]
  },
  {
   "cell_type": "code",
   "execution_count": 2,
   "metadata": {},
   "outputs": [
    {
     "data": {
      "text/plain": [
       "(166695, 9)"
      ]
     },
     "metadata": {},
     "output_type": "display_data"
    },
    {
     "data": {
      "text/html": [
       "<div>\n",
       "<style scoped>\n",
       "    .dataframe tbody tr th:only-of-type {\n",
       "        vertical-align: middle;\n",
       "    }\n",
       "\n",
       "    .dataframe tbody tr th {\n",
       "        vertical-align: top;\n",
       "    }\n",
       "\n",
       "    .dataframe thead th {\n",
       "        text-align: right;\n",
       "    }\n",
       "</style>\n",
       "<table border=\"1\" class=\"dataframe\">\n",
       "  <thead>\n",
       "    <tr style=\"text-align: right;\">\n",
       "      <th></th>\n",
       "      <th>Price</th>\n",
       "      <th>Make</th>\n",
       "      <th>Model</th>\n",
       "      <th>Model_year</th>\n",
       "      <th>Mileage</th>\n",
       "      <th>Fuel</th>\n",
       "      <th>Gearbox</th>\n",
       "      <th>Online</th>\n",
       "      <th>Description</th>\n",
       "    </tr>\n",
       "  </thead>\n",
       "  <tbody>\n",
       "    <tr>\n",
       "      <th>0</th>\n",
       "      <td>11220.0</td>\n",
       "      <td>PEUGEOT</td>\n",
       "      <td>308</td>\n",
       "      <td>2014</td>\n",
       "      <td>94341.0 km</td>\n",
       "      <td>Diesel</td>\n",
       "      <td>mécanique</td>\n",
       "      <td>06/07/2018 à 3h47</td>\n",
       "      <td>modele: 308 (2E GENERATION), version: 1.6 HDI FAP 92CH BUSINESS 5P, puissance_fiscale: 4, portes: 5.0, options: banquette arrière 3 places;volant cuir;cache bagages;airbag frontal;banquette 1/3 - ...</td>\n",
       "    </tr>\n",
       "    <tr>\n",
       "      <th>1</th>\n",
       "      <td>57526.0</td>\n",
       "      <td>BMW</td>\n",
       "      <td>X6</td>\n",
       "      <td>2015</td>\n",
       "      <td>39051.0 km</td>\n",
       "      <td>Diesel</td>\n",
       "      <td>automatique</td>\n",
       "      <td>03/04/2018 à 16h41</td>\n",
       "      <td>modele: X6 F16, version: (F16) XDRIVE30D 258 M SPORT BVA8, puissance_fiscale: 16, portes: 5.0, options: triangle de presignalisation et trousse de premiers secours;volant cuir;pack alu;affichage t...</td>\n",
       "    </tr>\n",
       "    <tr>\n",
       "      <th>2</th>\n",
       "      <td>80379.0</td>\n",
       "      <td>AUDI</td>\n",
       "      <td>RS6</td>\n",
       "      <td>2014</td>\n",
       "      <td>75381.0 km</td>\n",
       "      <td>Essence</td>\n",
       "      <td>automatique</td>\n",
       "      <td>30/07/2018 à 1h55</td>\n",
       "      <td>modele: RS6 (3E GENERATION) AVANT, version: III AVANT 4.0 TFSI 560 QUATTRO TIPTRONIC, puissance_fiscale: 47, portes: 5.0, options: banquette arrière 3 places;écran tactile;témoin de bouclage des c...</td>\n",
       "    </tr>\n",
       "    <tr>\n",
       "      <th>3</th>\n",
       "      <td>2830.0</td>\n",
       "      <td>FORD</td>\n",
       "      <td>KA</td>\n",
       "      <td>2007</td>\n",
       "      <td>92282.0 km</td>\n",
       "      <td>Essence</td>\n",
       "      <td>mécanique</td>\n",
       "      <td>09/07/2018 à 14h12</td>\n",
       "      <td>modele: KA, version: 1.3 70 FUN, puissance_fiscale: 5, portes: 3.0, options: direction assistée;jantes alu;rétroviseurs électriques et dégivrants;vitres électriques;fermeture électrique;climatisat...</td>\n",
       "    </tr>\n",
       "    <tr>\n",
       "      <th>4</th>\n",
       "      <td>12925.0</td>\n",
       "      <td>FIAT</td>\n",
       "      <td>TIPO</td>\n",
       "      <td>2018</td>\n",
       "      <td>10.0 km</td>\n",
       "      <td>Essence</td>\n",
       "      <td>mécanique</td>\n",
       "      <td>19/05/2018 à 3h52</td>\n",
       "      <td>modele: TIPO 2 SW, version: II SW 1.4 95 POP, puissance_fiscale: 5, portes: 5.0, options: Volant alu &amp; cuir;Bluetooth inclut musique en streaming, connexion téléphone;Rétroviseurs extérieurs chauf...</td>\n",
       "    </tr>\n",
       "  </tbody>\n",
       "</table>\n",
       "</div>"
      ],
      "text/plain": [
       "     Price     Make Model  Model_year     Mileage     Fuel      Gearbox  \\\n",
       "0  11220.0  PEUGEOT   308        2014  94341.0 km   Diesel    mécanique   \n",
       "1  57526.0      BMW    X6        2015  39051.0 km   Diesel  automatique   \n",
       "2  80379.0     AUDI   RS6        2014  75381.0 km  Essence  automatique   \n",
       "3   2830.0     FORD    KA        2007  92282.0 km  Essence    mécanique   \n",
       "4  12925.0     FIAT  TIPO        2018     10.0 km  Essence    mécanique   \n",
       "\n",
       "               Online  \\\n",
       "0   06/07/2018 à 3h47   \n",
       "1  03/04/2018 à 16h41   \n",
       "2   30/07/2018 à 1h55   \n",
       "3  09/07/2018 à 14h12   \n",
       "4   19/05/2018 à 3h52   \n",
       "\n",
       "                                                                                                                                                                                               Description  \n",
       "0  modele: 308 (2E GENERATION), version: 1.6 HDI FAP 92CH BUSINESS 5P, puissance_fiscale: 4, portes: 5.0, options: banquette arrière 3 places;volant cuir;cache bagages;airbag frontal;banquette 1/3 - ...  \n",
       "1  modele: X6 F16, version: (F16) XDRIVE30D 258 M SPORT BVA8, puissance_fiscale: 16, portes: 5.0, options: triangle de presignalisation et trousse de premiers secours;volant cuir;pack alu;affichage t...  \n",
       "2  modele: RS6 (3E GENERATION) AVANT, version: III AVANT 4.0 TFSI 560 QUATTRO TIPTRONIC, puissance_fiscale: 47, portes: 5.0, options: banquette arrière 3 places;écran tactile;témoin de bouclage des c...  \n",
       "3  modele: KA, version: 1.3 70 FUN, puissance_fiscale: 5, portes: 3.0, options: direction assistée;jantes alu;rétroviseurs électriques et dégivrants;vitres électriques;fermeture électrique;climatisat...  \n",
       "4  modele: TIPO 2 SW, version: II SW 1.4 95 POP, puissance_fiscale: 5, portes: 5.0, options: Volant alu & cuir;Bluetooth inclut musique en streaming, connexion téléphone;Rétroviseurs extérieurs chauf...  "
      ]
     },
     "metadata": {},
     "output_type": "display_data"
    }
   ],
   "source": [
    "cars_data = 'Data_cars.csv'\n",
    "\n",
    "df = pd.read_csv(cars_data)\n",
    "display(df.shape,\n",
    "        df.head())"
   ]
  },
  {
   "cell_type": "markdown",
   "metadata": {},
   "source": [
    "## Extraction des descriptions"
   ]
  },
  {
   "cell_type": "code",
   "execution_count": 3,
   "metadata": {},
   "outputs": [
    {
     "data": {
      "text/html": [
       "<div>\n",
       "<style scoped>\n",
       "    .dataframe tbody tr th:only-of-type {\n",
       "        vertical-align: middle;\n",
       "    }\n",
       "\n",
       "    .dataframe tbody tr th {\n",
       "        vertical-align: top;\n",
       "    }\n",
       "\n",
       "    .dataframe thead th {\n",
       "        text-align: right;\n",
       "    }\n",
       "</style>\n",
       "<table border=\"1\" class=\"dataframe\">\n",
       "  <thead>\n",
       "    <tr style=\"text-align: right;\">\n",
       "      <th></th>\n",
       "      <th>Price</th>\n",
       "      <th>Make</th>\n",
       "      <th>Model</th>\n",
       "      <th>Model_year</th>\n",
       "      <th>Mileage</th>\n",
       "      <th>Fuel</th>\n",
       "      <th>Gearbox</th>\n",
       "      <th>Online</th>\n",
       "      <th>Description</th>\n",
       "      <th>Modele</th>\n",
       "      <th>Version</th>\n",
       "      <th>Puissance_fiscale</th>\n",
       "      <th>Portes</th>\n",
       "      <th>Options</th>\n",
       "      <th>Couleur</th>\n",
       "    </tr>\n",
       "  </thead>\n",
       "  <tbody>\n",
       "    <tr>\n",
       "      <th>0</th>\n",
       "      <td>11220.0</td>\n",
       "      <td>PEUGEOT</td>\n",
       "      <td>308</td>\n",
       "      <td>2014</td>\n",
       "      <td>94341.0 km</td>\n",
       "      <td>Diesel</td>\n",
       "      <td>mécanique</td>\n",
       "      <td>06/07/2018 à 3h47</td>\n",
       "      <td>modele: 308 (2E GENERATION), version: 1.6 HDI FAP 92CH BUSINESS 5P, puissance_fiscale: 4, portes: 5.0, options: banquette arrière 3 places;volant cuir;cache bagages;airbag frontal;banquette 1/3 - ...</td>\n",
       "      <td>308 (2E GENERATION)</td>\n",
       "      <td>1.6 HDI FAP 92CH BUSINESS 5P</td>\n",
       "      <td>4</td>\n",
       "      <td>5.0</td>\n",
       "      <td>banquette arrière 3 places;volant cuir;cache bagages;airbag frontal;banquette 1/3 - 2/3;sièges rang 2 rabattables à plat;vitres teintées;boucliers av et ar couleur caisse;phares av. de jour à LED;...</td>\n",
       "      <td>BLANC BANQUISE</td>\n",
       "    </tr>\n",
       "  </tbody>\n",
       "</table>\n",
       "</div>"
      ],
      "text/plain": [
       "     Price     Make Model  Model_year     Mileage    Fuel    Gearbox  \\\n",
       "0  11220.0  PEUGEOT   308        2014  94341.0 km  Diesel  mécanique   \n",
       "\n",
       "              Online  \\\n",
       "0  06/07/2018 à 3h47   \n",
       "\n",
       "                                                                                                                                                                                               Description  \\\n",
       "0  modele: 308 (2E GENERATION), version: 1.6 HDI FAP 92CH BUSINESS 5P, puissance_fiscale: 4, portes: 5.0, options: banquette arrière 3 places;volant cuir;cache bagages;airbag frontal;banquette 1/3 - ...   \n",
       "\n",
       "                Modele                       Version Puissance_fiscale Portes  \\\n",
       "0  308 (2E GENERATION)  1.6 HDI FAP 92CH BUSINESS 5P                 4    5.0   \n",
       "\n",
       "                                                                                                                                                                                                   Options  \\\n",
       "0  banquette arrière 3 places;volant cuir;cache bagages;airbag frontal;banquette 1/3 - 2/3;sièges rang 2 rabattables à plat;vitres teintées;boucliers av et ar couleur caisse;phares av. de jour à LED;...   \n",
       "\n",
       "          Couleur  \n",
       "0  BLANC BANQUISE  "
      ]
     },
     "execution_count": 3,
     "metadata": {},
     "output_type": "execute_result"
    }
   ],
   "source": [
    "df = pd.concat([df, df['Description'].str.extract(\n",
    "    'modele: (?P<Modele>.*?), version: (?P<Version>.*?), puissance_fiscale: (?P<Puissance_fiscale>.*?), portes: (?P<Portes>.*?), options: (?P<Options>.*?), couleur: (?P<Couleur>.*?$)'\n",
    ")], axis=1, sort=False)\n",
    "df.head(1)"
   ]
  },
  {
   "cell_type": "markdown",
   "metadata": {},
   "source": [
    "## Conversion en donnée numérique et Nettoyage"
   ]
  },
  {
   "cell_type": "code",
   "execution_count": 4,
   "metadata": {},
   "outputs": [
    {
     "data": {
      "text/plain": [
       "Price                float64\n",
       "Make                  object\n",
       "Model                 object\n",
       "Model_year             int64\n",
       "Mileage              float64\n",
       "Fuel                  object\n",
       "Gearbox               object\n",
       "Online                object\n",
       "Description           object\n",
       "Modele                object\n",
       "Version               object\n",
       "Puissance_fiscale      int64\n",
       "Portes               float64\n",
       "Options               object\n",
       "Couleur               object\n",
       "dtype: object"
      ]
     },
     "execution_count": 4,
     "metadata": {},
     "output_type": "execute_result"
    }
   ],
   "source": [
    "df.Model_year = df.Model_year.astype('int64')\n",
    "df.Mileage = df.Mileage.str.replace(' km', '').astype('float64')\n",
    "df.Puissance_fiscale = df.Puissance_fiscale.astype('int64')\n",
    "df.Portes = df.Portes.replace('', np.NaN).astype('float64')\n",
    "df.dtypes"
   ]
  },
  {
   "cell_type": "markdown",
   "metadata": {},
   "source": [
    "### Exploration "
   ]
  },
  {
   "cell_type": "code",
   "execution_count": 5,
   "metadata": {},
   "outputs": [
    {
     "data": {
      "text/html": [
       "<div>\n",
       "<style scoped>\n",
       "    .dataframe tbody tr th:only-of-type {\n",
       "        vertical-align: middle;\n",
       "    }\n",
       "\n",
       "    .dataframe tbody tr th {\n",
       "        vertical-align: top;\n",
       "    }\n",
       "\n",
       "    .dataframe thead th {\n",
       "        text-align: right;\n",
       "    }\n",
       "</style>\n",
       "<table border=\"1\" class=\"dataframe\">\n",
       "  <thead>\n",
       "    <tr style=\"text-align: right;\">\n",
       "      <th></th>\n",
       "      <th>Price</th>\n",
       "    </tr>\n",
       "    <tr>\n",
       "      <th>Make</th>\n",
       "      <th></th>\n",
       "    </tr>\n",
       "  </thead>\n",
       "  <tbody>\n",
       "    <tr>\n",
       "      <th>ABARTH</th>\n",
       "      <td>20481.254237</td>\n",
       "    </tr>\n",
       "    <tr>\n",
       "      <th>AC</th>\n",
       "      <td>87696.000000</td>\n",
       "    </tr>\n",
       "    <tr>\n",
       "      <th>AIXAM</th>\n",
       "      <td>8980.285714</td>\n",
       "    </tr>\n",
       "    <tr>\n",
       "      <th>ALFA ROMEO</th>\n",
       "      <td>20088.910834</td>\n",
       "    </tr>\n",
       "    <tr>\n",
       "      <th>ALPINA</th>\n",
       "      <td>53933.800000</td>\n",
       "    </tr>\n",
       "    <tr>\n",
       "      <th>...</th>\n",
       "      <td>...</td>\n",
       "    </tr>\n",
       "    <tr>\n",
       "      <th>TESLA</th>\n",
       "      <td>77700.300000</td>\n",
       "    </tr>\n",
       "    <tr>\n",
       "      <th>TOYOTA</th>\n",
       "      <td>15090.286418</td>\n",
       "    </tr>\n",
       "    <tr>\n",
       "      <th>TRIUMPH</th>\n",
       "      <td>28952.470588</td>\n",
       "    </tr>\n",
       "    <tr>\n",
       "      <th>VOLKSWAGEN</th>\n",
       "      <td>18562.354951</td>\n",
       "    </tr>\n",
       "    <tr>\n",
       "      <th>VOLVO</th>\n",
       "      <td>27449.033998</td>\n",
       "    </tr>\n",
       "  </tbody>\n",
       "</table>\n",
       "<p>92 rows × 1 columns</p>\n",
       "</div>"
      ],
      "text/plain": [
       "                   Price\n",
       "Make                    \n",
       "ABARTH      20481.254237\n",
       "AC          87696.000000\n",
       "AIXAM        8980.285714\n",
       "ALFA ROMEO  20088.910834\n",
       "ALPINA      53933.800000\n",
       "...                  ...\n",
       "TESLA       77700.300000\n",
       "TOYOTA      15090.286418\n",
       "TRIUMPH     28952.470588\n",
       "VOLKSWAGEN  18562.354951\n",
       "VOLVO       27449.033998\n",
       "\n",
       "[92 rows x 1 columns]"
      ]
     },
     "execution_count": 5,
     "metadata": {},
     "output_type": "execute_result"
    }
   ],
   "source": [
    "df[['Make', 'Price']].groupby(['Make']).mean()"
   ]
  },
  {
   "cell_type": "markdown",
   "metadata": {},
   "source": [
    "### Prix suivant la marque\n",
    "(Prix plafonnées à 200 000€)"
   ]
  },
  {
   "cell_type": "code",
   "execution_count": 7,
   "metadata": {},
   "outputs": [],
   "source": [
    "if TRIGGER_VISUALIZATION:\n",
    "    fig = plt.figure(figsize=(100,10))\n",
    "\n",
    "    ax1 = sns.violinplot('Make', \"Price\", data=df[df.Price < 200000])\n",
    "    ax1.minorticks_on()\n",
    "    ax1.xaxis.set_minor_locator(AutoMinorLocator(2))\n",
    "    ax1.grid(which='minor', axis='x', linewidth=1)\n"
   ]
  },
  {
   "cell_type": "markdown",
   "metadata": {},
   "source": [
    "### Prix suivant l'année de sortie\n",
    "(Prix plafonnées à 200 000€)"
   ]
  },
  {
   "cell_type": "code",
   "execution_count": 8,
   "metadata": {},
   "outputs": [],
   "source": [
    "if TRIGGER_VISUALIZATION:\n",
    "    fig = plt.figure(figsize=(100,10))\n",
    "\n",
    "    ax1 = sns.violinplot('Model_year', \"Price\", data=df[df.Price < 200000])\n",
    "    ax1.minorticks_on()\n",
    "    ax1.xaxis.set_minor_locator(AutoMinorLocator(2))\n",
    "    ax1.grid(which='minor', axis='x', linewidth=1)"
   ]
  },
  {
   "cell_type": "markdown",
   "metadata": {},
   "source": [
    "### Kilométrage suivant la marque\n",
    "(Prix plafonnées à 200 000€)"
   ]
  },
  {
   "cell_type": "code",
   "execution_count": 9,
   "metadata": {},
   "outputs": [],
   "source": [
    "if TRIGGER_VISUALIZATION:\n",
    "    fig = plt.figure(figsize=(100,10))\n",
    "\n",
    "    ax1 = sns.violinplot('Make', \"Mileage\", data=df[df.Price < 200000])\n",
    "    ax1.minorticks_on()\n",
    "    ax1.xaxis.set_minor_locator(AutoMinorLocator(2))\n",
    "    ax1.grid(which='minor', axis='x', linewidth=1)"
   ]
  },
  {
   "cell_type": "markdown",
   "metadata": {},
   "source": [
    "### Extraction des informations de version"
   ]
  },
  {
   "cell_type": "code",
   "execution_count": 15,
   "metadata": {},
   "outputs": [
    {
     "data": {
      "text/html": [
       "<div>\n",
       "<style scoped>\n",
       "    .dataframe tbody tr th:only-of-type {\n",
       "        vertical-align: middle;\n",
       "    }\n",
       "\n",
       "    .dataframe tbody tr th {\n",
       "        vertical-align: top;\n",
       "    }\n",
       "\n",
       "    .dataframe thead th {\n",
       "        text-align: right;\n",
       "    }\n",
       "</style>\n",
       "<table border=\"1\" class=\"dataframe\">\n",
       "  <thead>\n",
       "    <tr style=\"text-align: right;\">\n",
       "      <th></th>\n",
       "      <th>first</th>\n",
       "      <th>puissance</th>\n",
       "      <th>last</th>\n",
       "    </tr>\n",
       "  </thead>\n",
       "  <tbody>\n",
       "    <tr>\n",
       "      <th>0</th>\n",
       "      <td>NaN</td>\n",
       "      <td>NaN</td>\n",
       "      <td>NaN</td>\n",
       "    </tr>\n",
       "    <tr>\n",
       "      <th>1</th>\n",
       "      <td>NaN</td>\n",
       "      <td>NaN</td>\n",
       "      <td>NaN</td>\n",
       "    </tr>\n",
       "    <tr>\n",
       "      <th>2</th>\n",
       "      <td>NaN</td>\n",
       "      <td>NaN</td>\n",
       "      <td>NaN</td>\n",
       "    </tr>\n",
       "    <tr>\n",
       "      <th>3</th>\n",
       "      <td>NaN</td>\n",
       "      <td>NaN</td>\n",
       "      <td>NaN</td>\n",
       "    </tr>\n",
       "    <tr>\n",
       "      <th>4</th>\n",
       "      <td>NaN</td>\n",
       "      <td>NaN</td>\n",
       "      <td>NaN</td>\n",
       "    </tr>\n",
       "    <tr>\n",
       "      <th>...</th>\n",
       "      <td>...</td>\n",
       "      <td>...</td>\n",
       "      <td>...</td>\n",
       "    </tr>\n",
       "    <tr>\n",
       "      <th>166690</th>\n",
       "      <td>NaN</td>\n",
       "      <td>NaN</td>\n",
       "      <td>NaN</td>\n",
       "    </tr>\n",
       "    <tr>\n",
       "      <th>166691</th>\n",
       "      <td>NaN</td>\n",
       "      <td>NaN</td>\n",
       "      <td>NaN</td>\n",
       "    </tr>\n",
       "    <tr>\n",
       "      <th>166692</th>\n",
       "      <td>NaN</td>\n",
       "      <td>NaN</td>\n",
       "      <td>NaN</td>\n",
       "    </tr>\n",
       "    <tr>\n",
       "      <th>166693</th>\n",
       "      <td>NaN</td>\n",
       "      <td>NaN</td>\n",
       "      <td>NaN</td>\n",
       "    </tr>\n",
       "    <tr>\n",
       "      <th>166694</th>\n",
       "      <td>NaN</td>\n",
       "      <td>NaN</td>\n",
       "      <td>NaN</td>\n",
       "    </tr>\n",
       "  </tbody>\n",
       "</table>\n",
       "<p>166695 rows × 3 columns</p>\n",
       "</div>"
      ],
      "text/plain": [
       "       first puissance last\n",
       "0        NaN       NaN  NaN\n",
       "1        NaN       NaN  NaN\n",
       "2        NaN       NaN  NaN\n",
       "3        NaN       NaN  NaN\n",
       "4        NaN       NaN  NaN\n",
       "...      ...       ...  ...\n",
       "166690   NaN       NaN  NaN\n",
       "166691   NaN       NaN  NaN\n",
       "166692   NaN       NaN  NaN\n",
       "166693   NaN       NaN  NaN\n",
       "166694   NaN       NaN  NaN\n",
       "\n",
       "[166695 rows x 3 columns]"
      ]
     },
     "execution_count": 15,
     "metadata": {},
     "output_type": "execute_result"
    }
   ],
   "source": [
    "df.Version.str.extract('(?P<first>^.*?$) (?P<puissance>\\d{2})CH (?P<last>.*?$)')"
   ]
  },
  {
   "cell_type": "markdown",
   "metadata": {},
   "source": [
    "### Extraction de l'Age du véhicule au moment de la vente\n",
    "année de mise en ligne de l'annonce - année de sortie"
   ]
  },
  {
   "cell_type": "code",
   "execution_count": 16,
   "metadata": {},
   "outputs": [],
   "source": [
    "Online_year = df.Online.str.extract('(?P<Jour>\\d{2})/(?P<Mois>\\d{2})/(?P<Annee>\\d{4})')['Annee'].astype('int64')\n",
    "df['Model_age'] = Online_year - df['Model_year']"
   ]
  },
  {
   "cell_type": "markdown",
   "metadata": {},
   "source": [
    "### (OPTIONNEL) Extraire cylindrée et Chevaux Vapeur"
   ]
  },
  {
   "cell_type": "code",
   "execution_count": null,
   "metadata": {},
   "outputs": [],
   "source": []
  },
  {
   "cell_type": "markdown",
   "metadata": {},
   "source": [
    "### Get Dummies (Fuel, Gearbox ?)"
   ]
  },
  {
   "cell_type": "code",
   "execution_count": 17,
   "metadata": {},
   "outputs": [],
   "source": [
    "# Fuel\n",
    "df = pd.concat([df, pd.get_dummies(df['Fuel'])], axis=1, sort=False)"
   ]
  },
  {
   "cell_type": "code",
   "execution_count": 18,
   "metadata": {},
   "outputs": [],
   "source": [
    "# Gearbox\n",
    "df = pd.concat([df, pd.get_dummies(df['Gearbox'])], axis=1, sort=False)"
   ]
  },
  {
   "cell_type": "markdown",
   "metadata": {},
   "source": [
    "## Feature Selection"
   ]
  },
  {
   "cell_type": "code",
   "execution_count": 19,
   "metadata": {},
   "outputs": [
    {
     "data": {
      "text/html": [
       "<div>\n",
       "<style scoped>\n",
       "    .dataframe tbody tr th:only-of-type {\n",
       "        vertical-align: middle;\n",
       "    }\n",
       "\n",
       "    .dataframe tbody tr th {\n",
       "        vertical-align: top;\n",
       "    }\n",
       "\n",
       "    .dataframe thead th {\n",
       "        text-align: right;\n",
       "    }\n",
       "</style>\n",
       "<table border=\"1\" class=\"dataframe\">\n",
       "  <thead>\n",
       "    <tr style=\"text-align: right;\">\n",
       "      <th></th>\n",
       "      <th>Make</th>\n",
       "      <th>Model</th>\n",
       "      <th>Mileage</th>\n",
       "      <th>Description</th>\n",
       "      <th>Modele</th>\n",
       "      <th>Version</th>\n",
       "      <th>Puissance_fiscale</th>\n",
       "      <th>Portes</th>\n",
       "      <th>Options</th>\n",
       "      <th>Couleur</th>\n",
       "      <th>...</th>\n",
       "      <th>Bicarburation essence GNV</th>\n",
       "      <th>Bicarburation essence GPL</th>\n",
       "      <th>Bicarburation essence bioéthanol</th>\n",
       "      <th>Diesel</th>\n",
       "      <th>Electrique</th>\n",
       "      <th>Essence</th>\n",
       "      <th>Hybride diesel électrique</th>\n",
       "      <th>Hybride essence électrique</th>\n",
       "      <th>automatique</th>\n",
       "      <th>mécanique</th>\n",
       "    </tr>\n",
       "  </thead>\n",
       "  <tbody>\n",
       "    <tr>\n",
       "      <th>0</th>\n",
       "      <td>PEUGEOT</td>\n",
       "      <td>308</td>\n",
       "      <td>94341.0</td>\n",
       "      <td>modele: 308 (2E GENERATION), version: 1.6 HDI FAP 92CH BUSINESS 5P, puissance_fiscale: 4, portes: 5.0, options: banquette arrière 3 places;volant cuir;cache bagages;airbag frontal;banquette 1/3 - ...</td>\n",
       "      <td>308 (2E GENERATION)</td>\n",
       "      <td>1.6 HDI FAP 92CH BUSINESS 5P</td>\n",
       "      <td>4</td>\n",
       "      <td>5.0</td>\n",
       "      <td>banquette arrière 3 places;volant cuir;cache bagages;airbag frontal;banquette 1/3 - 2/3;sièges rang 2 rabattables à plat;vitres teintées;boucliers av et ar couleur caisse;phares av. de jour à LED;...</td>\n",
       "      <td>BLANC BANQUISE</td>\n",
       "      <td>...</td>\n",
       "      <td>0</td>\n",
       "      <td>0</td>\n",
       "      <td>0</td>\n",
       "      <td>1</td>\n",
       "      <td>0</td>\n",
       "      <td>0</td>\n",
       "      <td>0</td>\n",
       "      <td>0</td>\n",
       "      <td>0</td>\n",
       "      <td>1</td>\n",
       "    </tr>\n",
       "  </tbody>\n",
       "</table>\n",
       "<p>1 rows × 21 columns</p>\n",
       "</div>"
      ],
      "text/plain": [
       "      Make Model  Mileage  \\\n",
       "0  PEUGEOT   308  94341.0   \n",
       "\n",
       "                                                                                                                                                                                               Description  \\\n",
       "0  modele: 308 (2E GENERATION), version: 1.6 HDI FAP 92CH BUSINESS 5P, puissance_fiscale: 4, portes: 5.0, options: banquette arrière 3 places;volant cuir;cache bagages;airbag frontal;banquette 1/3 - ...   \n",
       "\n",
       "                Modele                       Version  Puissance_fiscale  \\\n",
       "0  308 (2E GENERATION)  1.6 HDI FAP 92CH BUSINESS 5P                  4   \n",
       "\n",
       "   Portes  \\\n",
       "0     5.0   \n",
       "\n",
       "                                                                                                                                                                                                   Options  \\\n",
       "0  banquette arrière 3 places;volant cuir;cache bagages;airbag frontal;banquette 1/3 - 2/3;sièges rang 2 rabattables à plat;vitres teintées;boucliers av et ar couleur caisse;phares av. de jour à LED;...   \n",
       "\n",
       "          Couleur  ...  Bicarburation essence GNV  Bicarburation essence GPL  \\\n",
       "0  BLANC BANQUISE  ...                          0                          0   \n",
       "\n",
       "   Bicarburation essence bioéthanol  Diesel  Electrique  Essence  \\\n",
       "0                                 0       1           0        0   \n",
       "\n",
       "   Hybride diesel électrique  Hybride essence électrique  automatique  \\\n",
       "0                          0                           0            0   \n",
       "\n",
       "   mécanique  \n",
       "0          1  \n",
       "\n",
       "[1 rows x 21 columns]"
      ]
     },
     "execution_count": 19,
     "metadata": {},
     "output_type": "execute_result"
    }
   ],
   "source": [
    "df[['Make', 'Model', 'Mileage', 'Description', 'Modele', \n",
    "             'Version', 'Puissance_fiscale',\n",
    "             'Portes', 'Options', 'Couleur', 'Model_age',\n",
    "             'Bicarburation essence GNV', 'Bicarburation essence GPL',\n",
    "             'Bicarburation essence bioéthanol', 'Diesel', 'Electrique', 'Essence',\n",
    "             'Hybride diesel électrique', 'Hybride essence électrique',\n",
    "             'automatique', 'mécanique']].head(1)"
   ]
  },
  {
   "cell_type": "code",
   "execution_count": 20,
   "metadata": {},
   "outputs": [],
   "source": [
    "X_FEATURE = ['Make', 'Model', 'Mileage', 'Description', 'Modele', \n",
    "             'Version', 'Puissance_fiscale',\n",
    "             'Portes', 'Model_age',\n",
    "             'Bicarburation essence GNV', 'Bicarburation essence GPL',\n",
    "             'Bicarburation essence bioéthanol', 'Diesel', 'Electrique', 'Essence',\n",
    "             'Hybride diesel électrique', 'Hybride essence électrique',\n",
    "             'automatique', 'mécanique'] # 'Options', 'Couleur'\n",
    "Y_TARGET = ['Price']\n",
    "\n",
    "#DummyfiedX_DF = df[X_FEATURE]\n",
    "\n",
    "#for col in DummyfiedX_DF.dtypes[DummyfiedX_DF.dtypes == 'object'].index:\n",
    "#    for_dummy = DummyfiedX_DF.pop(col)\n",
    "#    DummyfiedX_DF = pd.concat([DummyfiedX_DF, pd.get_dummies(for_dummy, prefix=col)], axis=1)\n",
    "\n",
    "#DummyfiedX_DF.head()\n",
    "\n",
    "X_train, X_test, y_train, y_test = train_test_split(df[X_FEATURE], df[Y_TARGET], test_size=0.33, random_state=42)"
   ]
  },
  {
   "cell_type": "markdown",
   "metadata": {},
   "source": [
    "## Model Selection\n",
    "Faire un model simple et mesurer sa perf avec MAPE (Mean absolute performance error)\n",
    "One hot encoding ou\n",
    "dummyfication car il n'y a que 6 variables différentes dans la colonne fuel\n",
    "\n",
    "Pour matcher prix neuf d'un autre dataset, on concatene make et model et on compare avec make model du dataset autoplus.fr. Comparaison avec `fuzz.token_set_ratio`.\n",
    "\n",
    "Voir dataframe mapper : sklearn_pandas DataFrameMapper, sklearn.pipeline Pipeline, sklearn.decomposition PCA\n",
    "\n",
    "Parser options: tf idf, traitement fréquentiel.\n"
   ]
  },
  {
   "cell_type": "code",
   "execution_count": null,
   "metadata": {},
   "outputs": [],
   "source": []
  },
  {
   "cell_type": "markdown",
   "metadata": {},
   "source": [
    "## MAPE"
   ]
  },
  {
   "cell_type": "code",
   "execution_count": null,
   "metadata": {},
   "outputs": [],
   "source": []
  }
 ],
 "metadata": {
  "kernelspec": {
   "display_name": "Python 3.7.6 64-bit",
   "language": "python",
   "name": "python37664bit28565780c3894fa499001f9a3ba1f27f"
  },
  "language_info": {
   "codemirror_mode": {
    "name": "ipython",
    "version": 3
   },
   "file_extension": ".py",
   "mimetype": "text/x-python",
   "name": "python",
   "nbconvert_exporter": "python",
   "pygments_lexer": "ipython3",
   "version": "3.7.6"
  }
 },
 "nbformat": 4,
 "nbformat_minor": 4
}
